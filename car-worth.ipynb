{
 "cells": [
  {
   "cell_type": "code",
   "execution_count": 130,
   "metadata": {
    "collapsed": false
   },
   "outputs": [],
   "source": [
    "import pandas as pd\n",
    "import matplotlib.pyplot as plt\n",
    "import numpy as np\n",
    "from sklearn import linear_model\n",
    "from sklearn.linear_model import LinearRegression\n",
    "from sklearn.preprocessing import PolynomialFeatures\n",
    "from sklearn.pipeline import Pipeline\n",
    "import itertools\n",
    "\n",
    "\n",
    "%matplotlib inline"
   ]
  },
  {
   "cell_type": "markdown",
   "metadata": {},
   "source": [
    "# How Much is Your Car Worth?\n",
    "\n",
    "Data about the retail price of 2005 General Motors cars can be found in `car_data.csv`.\n",
    "\n",
    "The columns are:\n",
    "\n",
    "1. Price: suggested retail price of the used 2005 GM car in excellent condition.\n",
    "2. Mileage: number of miles the car has been driven\n",
    "3. Make: manufacturer of the car such as Saturn, Pontiac, and Chevrolet\n",
    "4. Model: specific models for each car manufacturer such as Ion, Vibe, Cavalier\n",
    "5. Trim (of car): specific type of car model such as SE Sedan 4D, Quad Coupe 2D          \n",
    "6. Type: body type such as sedan, coupe, etc.      \n",
    "7. Cylinder: number of cylinders in the engine        \n",
    "8. Liter: a more specific measure of engine size     \n",
    "9. Doors: number of doors           \n",
    "10. Cruise: indicator variable representing whether the car has cruise control (1 = cruise)\n",
    "11. Sound: indicator variable representing whether the car has upgraded speakers (1 = upgraded)\n",
    "12. Leather: indicator variable representing whether the car has leather seats (1 = leather)\n",
    "\n",
    "## Tasks, Part 1\n",
    "\n",
    "1. Find the linear regression equation for mileage vs price.\n",
    "2. Chart the original data and the equation on the chart.\n",
    "3. Find the equation's $R^2$ score (use the `.score` method) to determine whether the\n",
    "equation is a good fit for this data. (0.8 and greater is considered a strong correlation.)\n",
    "\n",
    "## Tasks, Part 2\n",
    "\n",
    "1. Use mileage, cylinders, liters, doors, cruise, sound, and leather to find the linear regression equation.\n",
    "2. Find the equation's $R^2$ score (use the `.score` method) to determine whether the\n",
    "equation is a good fit for this data. (0.8 and greater is considered a strong correlation.)\n",
    "3. Find the combination of the factors that is the best predictor for price.\n",
    "\n",
    "## Tasks, Part 3\n",
    "\n",
    "1. Research dummy variables in scikit-learn to see how to use the make, model, and body type.\n",
    "2. Find the best combination of factors to predict price."
   ]
  },
  {
   "cell_type": "code",
   "execution_count": 131,
   "metadata": {
    "collapsed": false
   },
   "outputs": [
    {
     "data": {
      "text/html": [
       "<div>\n",
       "<table border=\"1\" class=\"dataframe\">\n",
       "  <thead>\n",
       "    <tr style=\"text-align: right;\">\n",
       "      <th></th>\n",
       "      <th>Price</th>\n",
       "      <th>Mileage</th>\n",
       "      <th>Make</th>\n",
       "      <th>Model</th>\n",
       "      <th>Trim</th>\n",
       "      <th>Type</th>\n",
       "      <th>Cylinder</th>\n",
       "      <th>Liter</th>\n",
       "      <th>Doors</th>\n",
       "      <th>Cruise</th>\n",
       "      <th>Sound</th>\n",
       "      <th>Leather</th>\n",
       "    </tr>\n",
       "  </thead>\n",
       "  <tbody>\n",
       "    <tr>\n",
       "      <th>0</th>\n",
       "      <td>17314.103129</td>\n",
       "      <td>8221</td>\n",
       "      <td>Buick</td>\n",
       "      <td>Century</td>\n",
       "      <td>Sedan 4D</td>\n",
       "      <td>Sedan</td>\n",
       "      <td>6</td>\n",
       "      <td>3.1</td>\n",
       "      <td>4</td>\n",
       "      <td>1</td>\n",
       "      <td>1</td>\n",
       "      <td>1</td>\n",
       "    </tr>\n",
       "    <tr>\n",
       "      <th>1</th>\n",
       "      <td>17542.036083</td>\n",
       "      <td>9135</td>\n",
       "      <td>Buick</td>\n",
       "      <td>Century</td>\n",
       "      <td>Sedan 4D</td>\n",
       "      <td>Sedan</td>\n",
       "      <td>6</td>\n",
       "      <td>3.1</td>\n",
       "      <td>4</td>\n",
       "      <td>1</td>\n",
       "      <td>1</td>\n",
       "      <td>0</td>\n",
       "    </tr>\n",
       "    <tr>\n",
       "      <th>2</th>\n",
       "      <td>16218.847862</td>\n",
       "      <td>13196</td>\n",
       "      <td>Buick</td>\n",
       "      <td>Century</td>\n",
       "      <td>Sedan 4D</td>\n",
       "      <td>Sedan</td>\n",
       "      <td>6</td>\n",
       "      <td>3.1</td>\n",
       "      <td>4</td>\n",
       "      <td>1</td>\n",
       "      <td>1</td>\n",
       "      <td>0</td>\n",
       "    </tr>\n",
       "    <tr>\n",
       "      <th>3</th>\n",
       "      <td>16336.913140</td>\n",
       "      <td>16342</td>\n",
       "      <td>Buick</td>\n",
       "      <td>Century</td>\n",
       "      <td>Sedan 4D</td>\n",
       "      <td>Sedan</td>\n",
       "      <td>6</td>\n",
       "      <td>3.1</td>\n",
       "      <td>4</td>\n",
       "      <td>1</td>\n",
       "      <td>0</td>\n",
       "      <td>0</td>\n",
       "    </tr>\n",
       "    <tr>\n",
       "      <th>4</th>\n",
       "      <td>16339.170324</td>\n",
       "      <td>19832</td>\n",
       "      <td>Buick</td>\n",
       "      <td>Century</td>\n",
       "      <td>Sedan 4D</td>\n",
       "      <td>Sedan</td>\n",
       "      <td>6</td>\n",
       "      <td>3.1</td>\n",
       "      <td>4</td>\n",
       "      <td>1</td>\n",
       "      <td>0</td>\n",
       "      <td>1</td>\n",
       "    </tr>\n",
       "  </tbody>\n",
       "</table>\n",
       "</div>"
      ],
      "text/plain": [
       "          Price  Mileage   Make    Model      Trim   Type  Cylinder  Liter  \\\n",
       "0  17314.103129     8221  Buick  Century  Sedan 4D  Sedan         6    3.1   \n",
       "1  17542.036083     9135  Buick  Century  Sedan 4D  Sedan         6    3.1   \n",
       "2  16218.847862    13196  Buick  Century  Sedan 4D  Sedan         6    3.1   \n",
       "3  16336.913140    16342  Buick  Century  Sedan 4D  Sedan         6    3.1   \n",
       "4  16339.170324    19832  Buick  Century  Sedan 4D  Sedan         6    3.1   \n",
       "\n",
       "   Doors  Cruise  Sound  Leather  \n",
       "0      4       1      1        1  \n",
       "1      4       1      1        0  \n",
       "2      4       1      1        0  \n",
       "3      4       1      0        0  \n",
       "4      4       1      0        1  "
      ]
     },
     "execution_count": 131,
     "metadata": {},
     "output_type": "execute_result"
    }
   ],
   "source": [
    "df = pd.read_csv(\"car_data.csv\")\n",
    "df.head()"
   ]
  },
  {
   "cell_type": "code",
   "execution_count": 132,
   "metadata": {
    "collapsed": false
   },
   "outputs": [
    {
     "data": {
      "text/plain": [
       "array(['Buick', 'Cadillac', 'Chevrolet', 'Pontiac', 'SAAB', 'Saturn'], dtype=object)"
      ]
     },
     "execution_count": 132,
     "metadata": {},
     "output_type": "execute_result"
    }
   ],
   "source": [
    "df.Make.unique()"
   ]
  },
  {
   "cell_type": "code",
   "execution_count": 133,
   "metadata": {
    "collapsed": false
   },
   "outputs": [
    {
     "name": "stdout",
     "output_type": "stream",
     "text": [
      "The R^2 value is 0.02046344732348948\n",
      "The equation for the line is y =  [[-0.1725205]]x + [ 24764.55900606]\n"
     ]
    },
    {
     "data": {
      "image/png": "[encoded data removed]",
      "text/plain": [
       "<matplotlib.figure.Figure at 0x114f62668>"
      ]
     },
     "metadata": {},
     "output_type": "display_data"
    }
   ],
   "source": [
    "price = df[['Price']]\n",
    "mileage = df[['Mileage']]\n",
    "regr = linear_model.LinearRegression()\n",
    "regr.fit(mileage, price)\n",
    "predict = regr.predict(mileage)\n",
    "plt.scatter(mileage, price)\n",
    "plt.plot(mileage, predict,  c='red', linewidth=2)\n",
    "plt.title(\"Mileage vs Price\")\n",
    "plt.xlabel(\"Price\")\n",
    "plt.ylabel(\"Mileage\")\n",
    "print(\"The R^2 value is {}\".format(regr.score(mileage,price)))\n",
    "print(\"The equation for the line is y =  {}x + {}\".format(regr.coef_, regr.intercept_))"
   ]
  },
  {
   "cell_type": "code",
   "execution_count": 134,
   "metadata": {
    "collapsed": false
   },
   "outputs": [],
   "source": [
    "fn = lambda x: regr.predict(mileage)[0]\n",
    "def plot_regression(fn):\n",
    "    # scatter plot first\n",
    "    plt.scatter(mileage, price)\n",
    "    xmin, xmax = plt.xlim()\n",
    "    xs = np.linspace(xmin, xmax, 80000)\n",
    "    # fn is our (y = mx + b) expression\n",
    "    plt.ylim(ymax=80000, ymin=0)\n",
    "    plt.plot(xs, [fn(x) for x in xs])"
   ]
  },
  {
   "cell_type": "code",
   "execution_count": null,
   "metadata": {
    "collapsed": false
   },
   "outputs": [],
   "source": []
  },
  {
   "cell_type": "code",
   "execution_count": 135,
   "metadata": {
    "collapsed": false
   },
   "outputs": [
    {
     "name": "stdout",
     "output_type": "stream",
     "text": [
      "The R^2 value is 0.02046344732348948 for a polynomial interpretation of mileage/price\n"
     ]
    }
   ],
   "source": [
    "regr_pol = Pipeline([('poly', PolynomialFeatures(degree=1)),\n",
    "                  ('linear', LinearRegression())])\n",
    "regr_pol.fit(mileage, price)\n",
    "\n",
    "print(\"The R^2 value is {} for a polynomial interpretation of mileage/price\".format(regr.score(mileage,price)))"
   ]
  },
  {
   "cell_type": "code",
   "execution_count": 136,
   "metadata": {
    "collapsed": false
   },
   "outputs": [],
   "source": [
    "possible_columns = ['Mileage', 'Cylinder', 'Liter', 'Doors', 'Cruise', 'Sound', 'Leather']\n",
    "combos2 = (list(itertools.combinations(possible_columns, 2)))\n",
    "combos3 = (list(itertools.combinations(possible_columns, 3)))\n",
    "combos4 = (list(itertools.combinations(possible_columns, 4)))\n",
    "combos5 = (list(itertools.combinations(possible_columns, 5)))\n",
    "combos6 = (list(itertools.combinations(possible_columns, 6)))\n",
    "combos7 = (list(itertools.combinations(possible_columns, 7)))\n",
    "\n",
    "combos2 = [list(x) for x in combos2]\n",
    "combos3 = [list(x) for x in combos3]\n",
    "combos4 = [list(x) for x in combos4]\n",
    "combos5 = [list(x) for x in combos5]\n",
    "combos6 = [list(x) for x in combos6]\n",
    "combos7 = [list(x) for x in combos7]\n",
    "\n",
    "merged = combos2+combos3+combos4+combos5+combos6+combos7\n"
   ]
  },
  {
   "cell_type": "code",
   "execution_count": 137,
   "metadata": {
    "collapsed": false
   },
   "outputs": [
    {
     "name": "stdout",
     "output_type": "stream",
     "text": [
      "(['Mileage', 'Cylinder', 'Liter', 'Doors', 'Cruise', 'Sound', 'Leather'], 0.44626435367283801)\n"
     ]
    }
   ],
   "source": [
    "def find_highest(combos, output):\n",
    "    combo = []\n",
    "    for x in combos:\n",
    "        regr_pol.fit(np.array(df[x]), output)\n",
    "        combo.append((x, regr_pol.score(np.array(df[x]), output)))\n",
    "    winner = sorted(combo, key=lambda c:c[1], reverse = True)[0]\n",
    "    print(winner)\n",
    "    \n",
    "find_highest(merged, price)\n"
   ]
  },
  {
   "cell_type": "code",
   "execution_count": 138,
   "metadata": {
    "collapsed": false
   },
   "outputs": [],
   "source": [
    "def find_all(combos, output):\n",
    "    combo = []\n",
    "    for x in combos:\n",
    "        regr_pol.fit(np.array(df[x]), output)\n",
    "        combo.append((x, regr_pol.score(np.array(df[x]), output)))\n",
    "    winner = sorted(combo, key=lambda c:c[1], reverse = True)\n",
    "    print(winner)\n",
    "#find_all(merged, price)"
   ]
  },
  {
   "cell_type": "code",
   "execution_count": 139,
   "metadata": {
    "collapsed": false
   },
   "outputs": [
    {
     "name": "stdout",
     "output_type": "stream",
     "text": [
      "The R^2 score for mileage, cylinders, liters, doors, cruise, sound, and leather is 0.446264353672838\n"
     ]
    }
   ],
   "source": [
    "best_fit = ['Mileage', 'Cylinder', 'Liter', 'Doors', 'Cruise', 'Sound', 'Leather']\n",
    "best_fit_list = [['Mileage'], ['Cylinder'], ['Liter'], ['Doors'], ['Cruise'], ['Sound'], ['Leather']]\n",
    "print(\"The R^2 score for mileage, cylinders, liters, doors, cruise, sound, and leather is {}\".format(regr_pol.score(df[best_fit], price)))\n"
   ]
  },
  {
   "cell_type": "code",
   "execution_count": 140,
   "metadata": {
    "collapsed": false
   },
   "outputs": [
    {
     "name": "stdout",
     "output_type": "stream",
     "text": [
      "[['Mileage'], ['Cylinder'], ['Liter'], ['Doors'], ['Cruise'], ['Sound'], ['Leather']]\n"
     ]
    }
   ],
   "source": [
    "print(best_fit_list)"
   ]
  },
  {
   "cell_type": "code",
   "execution_count": 141,
   "metadata": {
    "collapsed": false
   },
   "outputs": [],
   "source": [
    "def make_col(name, cat):\n",
    "    data = []\n",
    "    for x in range(len(df.index)):\n",
    "        if df[cat][x] == name:\n",
    "            data.append(1)\n",
    "        else:\n",
    "            data.append(0)\n",
    "    data = np.array(data)\n",
    "    df[name] = data\n",
    "\n",
    "for x in df.Make.unique():\n",
    "    make_col(x, 'Make')\n",
    "for x in df.Model.unique():\n",
    "    make_col(x, 'Model')\n",
    "for x in df.Type.unique():\n",
    "    make_col(x, 'Type')\n"
   ]
  },
  {
   "cell_type": "code",
   "execution_count": 145,
   "metadata": {
    "collapsed": false
   },
   "outputs": [],
   "source": [
    "columns = list(df.columns[6:])\n",
    "columns.append('Mileage')\n"
   ]
  },
  {
   "cell_type": "code",
   "execution_count": 150,
   "metadata": {
    "collapsed": false
   },
   "outputs": [
    {
     "name": "stdout",
     "output_type": "stream",
     "text": [
      "[('Cadillac', 0.43467222055774146), ('Cylinder', 0.32385903759512247), ('Liter', 0.31152674427904514), ('Convertible', 0.25808237266623613), ('XLR-V8', 0.22329254532193277), ('Cruise', 0.1856330092969275), ('Chevrolet', 0.16369972777296582), ('SAAB', 0.1124960848698161), ('AVEO', 0.092682083731299714), ('Deville', 0.088118977124250653)]\n"
     ]
    }
   ],
   "source": [
    "\n",
    "def find_seven(combos):\n",
    "    combo = []\n",
    "    for x in combos:\n",
    "        regr_pol.fit(np.array(df[[x]]), df.Price)\n",
    "        combo.append((x, regr_pol.score(np.array(df[[x]]), df.Price)))\n",
    "    winner = sorted(combo, key=lambda c:c[1], reverse = True)[:7]\n",
    "    print(winner)\n",
    "    \n",
    "find_five(columns)\n"
   ]
  },
  {
   "cell_type": "code",
   "execution_count": 151,
   "metadata": {
    "collapsed": false
   },
   "outputs": [],
   "source": [
    "cols = ['Cadillac', 'Cylinder', 'Liter', 'Convertible', 'XLR-V8', 'Cruise', 'Chevrolet']\n",
    "combos2 = (list(itertools.combinations(cols, 2)))\n",
    "combos3 = (list(itertools.combinations(cols, 3)))\n",
    "combos4 = (list(itertools.combinations(cols, 4)))\n",
    "combos5 = (list(itertools.combinations(cols, 5)))\n",
    "combos6 = (list(itertools.combinations(cols, 6)))\n",
    "combos7 = (list(itertools.combinations(cols, 7)))\n",
    "\n",
    "combos2 = [list(x) for x in combos2]\n",
    "combos3 = [list(x) for x in combos3]\n",
    "combos4 = [list(x) for x in combos4]\n",
    "combos5 = [list(x) for x in combos5]\n",
    "combos6 = [list(x) for x in combos6]\n",
    "combos7 = [list(x) for x in combos7]\n",
    "\n",
    "merged = combos2+combos3+combos4+combos5+combos6+combos7\n"
   ]
  },
  {
   "cell_type": "code",
   "execution_count": null,
   "metadata": {
    "collapsed": true
   },
   "outputs": [],
   "source": [
    "find(highest)"
   ]
  }
 ],
 "metadata": {
  "kernelspec": {
   "display_name": "Python 3",
   "language": "python",
   "name": "python3"
  },
  "language_info": {
   "codemirror_mode": {
    "name": "ipython",
    "version": 3
   },
   "file_extension": ".py",
   "mimetype": "text/x-python",
   "name": "python",
   "nbconvert_exporter": "python",
   "pygments_lexer": "ipython3",
   "version": "3.4.3"
  }
 },
 "nbformat": 4,
 "nbformat_minor": 0
}
